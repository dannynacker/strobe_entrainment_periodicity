{
  "nbformat": 4,
  "nbformat_minor": 0,
  "metadata": {
    "colab": {
      "provenance": [],
      "authorship_tag": "ABX9TyMt+TSJtJDJN1Z0PCMlb+Yp",
      "include_colab_link": true
    },
    "kernelspec": {
      "name": "python3",
      "display_name": "Python 3"
    },
    "language_info": {
      "name": "python"
    }
  },
  "cells": [
    {
      "cell_type": "markdown",
      "metadata": {
        "id": "view-in-github",
        "colab_type": "text"
      },
      "source": [
        "<a href=\"https://colab.research.google.com/github/dannynacker/strobe_entrainment_periodicity_MSc/blob/main/aperiodic_generation.ipynb\" target=\"_parent\"><img src=\"https://colab.research.google.com/assets/colab-badge.svg\" alt=\"Open In Colab\"/></a>"
      ]
    },
    {
      "cell_type": "code",
      "source": [
        "import numpy as np\n",
        "\n",
        "def poisson_flash_times(frequency, duration, duty_cycle, min_interval=0.025, max_interval_factor=3.0):\n",
        "    \"\"\"Generates Poisson-distributed flash onset times ensuring correct flash count and duty cycle adjustments.\"\"\"\n",
        "    cycle_length = 1.0 / frequency\n",
        "    expected_flashes = int(duration * frequency)\n",
        "    times = []\n",
        "    time = 0\n",
        "\n",
        "    while len(times) < expected_flashes and time < duration:\n",
        "        interval = np.random.exponential(cycle_length * 0.8)\n",
        "        interval = min(interval, cycle_length * max_interval_factor)\n",
        "        interval = max(interval, min_interval)\n",
        "\n",
        "        on_duration = interval * (duty_cycle / 100)\n",
        "        time += interval\n",
        "\n",
        "        if time < duration:\n",
        "            times.append((time, on_duration))\n",
        "\n",
        "    return times\n",
        "\n",
        "def calculate_effective_frequency(signal, duration):\n",
        "    \"\"\"Calculate effective frequency from generated flash times.\"\"\"\n",
        "    return len(signal) / duration\n",
        "\n",
        "def optimize_initial_frequency(target_Fe, duration, duty_cycle, tolerance=0.01, max_iterations=10000, max_freq=200.0):\n",
        "    \"\"\"Finds the optimal initial frequency that produces the desired effective frequency, clamping within range.\"\"\"\n",
        "    F = min(target_Fe * 1.2, max_freq)  # Start slightly higher\n",
        "    iteration = 0\n",
        "\n",
        "    while iteration < max_iterations:\n",
        "        flash_times = poisson_flash_times(F, duration, duty_cycle)\n",
        "        Fe = calculate_effective_frequency(flash_times, duration)\n",
        "\n",
        "        if abs(Fe - target_Fe) <= tolerance:\n",
        "            return min(F, max_freq), Fe, flash_times\n",
        "\n",
        "        F = min(max(0.1, F + 0.15 if Fe < target_Fe else F - 0.15), max_freq)\n",
        "        iteration += 1\n",
        "\n",
        "    print(\"⚠️ Warning: Max iterations reached without finding precise Fe match.\")\n",
        "    return F, Fe, flash_times\n",
        "\n",
        "def generate_strobe_sequence():\n",
        "    \"\"\"Generates a strobe sequence file with proper STP formatting for all four oscillators in a single line.\"\"\"\n",
        "    stimulation = input(\"Choose stimulation type (Periodic/Aperiodic): \").strip()\n",
        "    duration = float(input(\"Enter total sequence duration (seconds): \"))\n",
        "    start_Fe = float(input(\"Enter start effective frequency (Hz): \"))\n",
        "    end_Fe = float(input(\"Enter end effective frequency (Hz): \"))\n",
        "    start_l = int(input(\"Enter start luminance (0-100): \"))\n",
        "    end_l = int(input(\"Enter end luminance (0-100): \"))\n",
        "    start_d = int(input(\"Enter start duty cycle (1-99): \"))\n",
        "    end_d = int(input(\"Enter end duty cycle (1-99): \"))\n",
        "    wave_type = input(\"Enter wave type (Square/Sine): \").strip()\n",
        "    led_config = [input(f\"LED Set {i+1} (1=On, 0=Off): \") for i in range(4)]\n",
        "\n",
        "    output = [f'TIM\"00:00:{int(duration // 60):02}:{duration % 60:04.1f}\"', f'DUR\"{duration:.1f}\"']\n",
        "\n",
        "    num_steps = int(duration * (start_Fe + end_Fe) / 2)\n",
        "    min_interval = 0.025\n",
        "\n",
        "    if stimulation == \"Aperiodic\":\n",
        "        F, Fe, flash_times = optimize_initial_frequency(start_Fe, duration, start_d)\n",
        "    else:\n",
        "        flash_times = [(i * (1.0 / start_Fe), (start_d / 100) * (1.0 / start_Fe)) for i in range(num_steps)]\n",
        "        Fe = start_Fe\n",
        "\n",
        "    previous_onset = 0\n",
        "    step_lines = []\n",
        "\n",
        "    for onset, on_duration in flash_times:\n",
        "        step_duration = max(onset - previous_onset, min_interval)\n",
        "        previous_onset = onset + on_duration\n",
        "\n",
        "        step_freq = start_Fe if onset < duration / 2 else end_Fe\n",
        "        step_duty = start_d if onset < duration / 2 else end_d\n",
        "        step_luminance = start_l if onset < duration / 2 else end_l\n",
        "\n",
        "        # **CORRECTED** STP formatting (all four oscillators in one line)\n",
        "        stp_line = f'STP\"{step_duration:.3f},1,{step_freq:.2f},{end_Fe:.2f},{step_duty},{end_d},' \\\n",
        "                   f'{led_config[0]},{led_config[1]},{led_config[2]},{led_config[3]},{step_luminance},{end_l}, ' \\\n",
        "                   f'{step_duration:.3f},1,{step_freq:.2f},{end_Fe:.2f},{step_duty},{end_d},' \\\n",
        "                   f'{led_config[0]},{led_config[1]},{led_config[2]},{led_config[3]},{step_luminance},{end_l}, ' \\\n",
        "                   f'{step_duration:.3f},1,{step_freq:.2f},{end_Fe:.2f},{step_duty},{end_d},' \\\n",
        "                   f'{led_config[0]},{led_config[1]},{led_config[2]},{led_config[3]},{step_luminance},{end_l}, ' \\\n",
        "                   f'{step_duration:.3f},1,{step_freq:.2f},{end_Fe:.2f},{step_duty},{end_d},' \\\n",
        "                   f'{led_config[0]},{led_config[1]},{led_config[2]},{led_config[3]},{step_luminance},{end_l}\"'\n",
        "\n",
        "        step_lines.append(stp_line)\n",
        "\n",
        "    output.extend(step_lines)\n",
        "\n",
        "    file_name = \"strobe_periodic.txt\" if stimulation == \"Periodic\" else \"strobe_aperiodic.txt\"\n",
        "\n",
        "    with open(file_name, \"w\") as f:\n",
        "        f.write(\"\\n\".join(output))\n",
        "\n",
        "    print(f\"✅ Generated {file_name} with correct formatting.\")\n",
        "\n",
        "# Run the generator\n",
        "generate_strobe_sequence()"
      ],
      "metadata": {
        "id": "UQaoJoPaSo3G",
        "colab": {
          "base_uri": "https://localhost:8080/"
        },
        "outputId": "a6ee5484-413c-47c4-f57e-db48f1cbb3b2"
      },
      "execution_count": 20,
      "outputs": [
        {
          "output_type": "stream",
          "name": "stdout",
          "text": [
            "Choose stimulation type (Periodic/Aperiodic): Periodic\n",
            "Enter total sequence duration (seconds): 5\n",
            "Enter start effective frequency (Hz): 10\n",
            "Enter end effective frequency (Hz): 10\n",
            "Enter start luminance (0-100): 50\n",
            "Enter end luminance (0-100): 50\n",
            "Enter start duty cycle (1-99): 50\n",
            "Enter end duty cycle (1-99): 50\n",
            "Enter wave type (Square/Sine): Square\n",
            "LED Set 1 (1=On, 0=Off): 1\n",
            "LED Set 2 (1=On, 0=Off): 1\n",
            "LED Set 3 (1=On, 0=Off): 1\n",
            "LED Set 4 (1=On, 0=Off): 1\n",
            "✅ Generated strobe_periodic.txt with correct formatting.\n"
          ]
        }
      ]
    }
  ]
}